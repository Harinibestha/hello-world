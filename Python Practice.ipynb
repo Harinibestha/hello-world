{
  "nbformat": 4,
  "nbformat_minor": 0,
  "metadata": {
    "colab": {
      "name": "Untitled0.ipynb",
      "version": "0.3.2",
      "provenance": [],
      "include_colab_link": true
    },
    "kernelspec": {
      "name": "python3",
      "display_name": "Python 3"
    }
  },
  "cells": [
    {
      "cell_type": "markdown",
      "metadata": {
        "id": "view-in-github",
        "colab_type": "text"
      },
      "source": [
        "<a href=\"https://colab.research.google.com/github/Harinibestha/hello-world/blob/master/Python%20Practice.ipynb\" target=\"_parent\"><img src=\"https://colab.research.google.com/assets/colab-badge.svg\" alt=\"Open In Colab\"/></a>"
      ]
    },
    {
      "metadata": {
        "id": "CocmmOkrDFXz",
        "colab_type": "code",
        "colab": {
          "base_uri": "https://localhost:8080/",
          "height": 34
        },
        "outputId": "b518cc23-d741-4578-fa41-cf20e46920ab"
      },
      "cell_type": "code",
      "source": [
        "##lambda function\n",
        "\n",
        "square=lambda x,y:x**y\n",
        "print(square(2,3))"
      ],
      "execution_count": 4,
      "outputs": [
        {
          "output_type": "stream",
          "text": [
            "8\n"
          ],
          "name": "stdout"
        }
      ]
    },
    {
      "metadata": {
        "id": "EK9X9l1wDbuM",
        "colab_type": "code",
        "colab": {
          "base_uri": "https://localhost:8080/",
          "height": 34
        },
        "outputId": "6a7e0e7b-5d03-421e-8aef-19fc25d38430"
      },
      "cell_type": "code",
      "source": [
        "##map function\n",
        "square1=[2,5,6,7,8]\n",
        "square2=map(lambda x:x**2,square1)\n",
        "print(list(square2))"
      ],
      "execution_count": 5,
      "outputs": [
        {
          "output_type": "stream",
          "text": [
            "[4, 25, 36, 49, 64]\n"
          ],
          "name": "stdout"
        }
      ]
    },
    {
      "metadata": {
        "id": "rpf4L7FmE9Op",
        "colab_type": "code",
        "colab": {
          "base_uri": "https://localhost:8080/",
          "height": 306
        },
        "outputId": "ea31b837-1c20-4cc7-8898-038b269af491"
      },
      "cell_type": "code",
      "source": [
        "##iloc and loc method\n",
        "\n",
        "import pandas as pd\n",
        "from pandas import Series, DataFrame\n",
        "import numpy as np\n",
        "\n",
        "\n",
        "d={'price':[19,22,13,54,65],'sales':[600,756,587,859,990]}\n",
        "frame1=DataFrame(d)\n",
        "print(frame1)\n",
        "\n",
        "frame1.rename(columns={'price':'Base_price', 'sales':'unit sales'})"
      ],
      "execution_count": 10,
      "outputs": [
        {
          "output_type": "stream",
          "text": [
            "   price  sales\n",
            "0     19    600\n",
            "1     22    756\n",
            "2     13    587\n",
            "3     54    859\n",
            "4     65    990\n"
          ],
          "name": "stdout"
        },
        {
          "output_type": "execute_result",
          "data": {
            "text/html": [
              "<div>\n",
              "<style scoped>\n",
              "    .dataframe tbody tr th:only-of-type {\n",
              "        vertical-align: middle;\n",
              "    }\n",
              "\n",
              "    .dataframe tbody tr th {\n",
              "        vertical-align: top;\n",
              "    }\n",
              "\n",
              "    .dataframe thead th {\n",
              "        text-align: right;\n",
              "    }\n",
              "</style>\n",
              "<table border=\"1\" class=\"dataframe\">\n",
              "  <thead>\n",
              "    <tr style=\"text-align: right;\">\n",
              "      <th></th>\n",
              "      <th>Base_price</th>\n",
              "      <th>unit sales</th>\n",
              "    </tr>\n",
              "  </thead>\n",
              "  <tbody>\n",
              "    <tr>\n",
              "      <th>0</th>\n",
              "      <td>19</td>\n",
              "      <td>600</td>\n",
              "    </tr>\n",
              "    <tr>\n",
              "      <th>1</th>\n",
              "      <td>22</td>\n",
              "      <td>756</td>\n",
              "    </tr>\n",
              "    <tr>\n",
              "      <th>2</th>\n",
              "      <td>13</td>\n",
              "      <td>587</td>\n",
              "    </tr>\n",
              "    <tr>\n",
              "      <th>3</th>\n",
              "      <td>54</td>\n",
              "      <td>859</td>\n",
              "    </tr>\n",
              "    <tr>\n",
              "      <th>4</th>\n",
              "      <td>65</td>\n",
              "      <td>990</td>\n",
              "    </tr>\n",
              "  </tbody>\n",
              "</table>\n",
              "</div>"
            ],
            "text/plain": [
              "   Base_price  unit sales\n",
              "0          19         600\n",
              "1          22         756\n",
              "2          13         587\n",
              "3          54         859\n",
              "4          65         990"
            ]
          },
          "metadata": {
            "tags": []
          },
          "execution_count": 10
        }
      ]
    },
    {
      "metadata": {
        "id": "W_d9XgJOHNv-",
        "colab_type": "code",
        "colab": {
          "base_uri": "https://localhost:8080/",
          "height": 68
        },
        "outputId": "a0fe036b-6e4c-4f62-9d07-ce6ade16fb56"
      },
      "cell_type": "code",
      "source": [
        "frame1.loc[[3,0]]['price']"
      ],
      "execution_count": 11,
      "outputs": [
        {
          "output_type": "execute_result",
          "data": {
            "text/plain": [
              "3    54\n",
              "0    19\n",
              "Name: price, dtype: int64"
            ]
          },
          "metadata": {
            "tags": []
          },
          "execution_count": 11
        }
      ]
    },
    {
      "metadata": {
        "id": "qmJB3dvRHgg2",
        "colab_type": "code",
        "colab": {
          "base_uri": "https://localhost:8080/",
          "height": 51
        },
        "outputId": "ed149492-2b25-47f2-b71d-8d3533ab3b1a"
      },
      "cell_type": "code",
      "source": [
        "frame1.iloc[[4]]['price']"
      ],
      "execution_count": 12,
      "outputs": [
        {
          "output_type": "execute_result",
          "data": {
            "text/plain": [
              "4    65\n",
              "Name: price, dtype: int64"
            ]
          },
          "metadata": {
            "tags": []
          },
          "execution_count": 12
        }
      ]
    },
    {
      "metadata": {
        "id": "svKQFiz8H4Ay",
        "colab_type": "code",
        "colab": {
          "base_uri": "https://localhost:8080/",
          "height": 85
        },
        "outputId": "70381306-e89e-41ab-c2f6-139aff7c6106"
      },
      "cell_type": "code",
      "source": [
        "df1=pd.DataFrame({'price':[14,32,43],'sales':[400,456,526]},index=list('abc'))\n",
        "print(df1)"
      ],
      "execution_count": 14,
      "outputs": [
        {
          "output_type": "stream",
          "text": [
            "   price  sales\n",
            "a     14    400\n",
            "b     32    456\n",
            "c     43    526\n"
          ],
          "name": "stdout"
        }
      ]
    },
    {
      "metadata": {
        "id": "TxubYoeMIdej",
        "colab_type": "code",
        "colab": {
          "base_uri": "https://localhost:8080/",
          "height": 68
        },
        "outputId": "57971398-8c49-4005-d089-5a48d57f2581"
      },
      "cell_type": "code",
      "source": [
        "df1.loc['a']"
      ],
      "execution_count": 15,
      "outputs": [
        {
          "output_type": "execute_result",
          "data": {
            "text/plain": [
              "price     14\n",
              "sales    400\n",
              "Name: a, dtype: int64"
            ]
          },
          "metadata": {
            "tags": []
          },
          "execution_count": 15
        }
      ]
    },
    {
      "metadata": {
        "id": "ImUL4-OHIhd8",
        "colab_type": "code",
        "colab": {
          "base_uri": "https://localhost:8080/",
          "height": 68
        },
        "outputId": "4212decc-2af3-4c4f-9540-236ba6276d19"
      },
      "cell_type": "code",
      "source": [
        "df1.iloc[0]"
      ],
      "execution_count": 19,
      "outputs": [
        {
          "output_type": "execute_result",
          "data": {
            "text/plain": [
              "price     14\n",
              "sales    400\n",
              "Name: a, dtype: int64"
            ]
          },
          "metadata": {
            "tags": []
          },
          "execution_count": 19
        }
      ]
    },
    {
      "metadata": {
        "id": "GSBrYKxCI0Pb",
        "colab_type": "code",
        "colab": {
          "base_uri": "https://localhost:8080/",
          "height": 68
        },
        "outputId": "3f3f4d0d-3191-460d-84c7-98e300ef84de"
      },
      "cell_type": "code",
      "source": [
        "##loc and iloc also allow you to select both rows and columns from a DF\n",
        "\n",
        "df1.loc[['a','b'],'price']"
      ],
      "execution_count": 20,
      "outputs": [
        {
          "output_type": "execute_result",
          "data": {
            "text/plain": [
              "a    14\n",
              "b    32\n",
              "Name: price, dtype: int64"
            ]
          },
          "metadata": {
            "tags": []
          },
          "execution_count": 20
        }
      ]
    },
    {
      "metadata": {
        "id": "DHsJBMBxJQt7",
        "colab_type": "code",
        "colab": {
          "base_uri": "https://localhost:8080/",
          "height": 111
        },
        "outputId": "1cecab42-8407-46d8-b68d-1a3c2bf6a21d"
      },
      "cell_type": "code",
      "source": [
        "df1.iloc[[0,2]]"
      ],
      "execution_count": 22,
      "outputs": [
        {
          "output_type": "execute_result",
          "data": {
            "text/html": [
              "<div>\n",
              "<style scoped>\n",
              "    .dataframe tbody tr th:only-of-type {\n",
              "        vertical-align: middle;\n",
              "    }\n",
              "\n",
              "    .dataframe tbody tr th {\n",
              "        vertical-align: top;\n",
              "    }\n",
              "\n",
              "    .dataframe thead th {\n",
              "        text-align: right;\n",
              "    }\n",
              "</style>\n",
              "<table border=\"1\" class=\"dataframe\">\n",
              "  <thead>\n",
              "    <tr style=\"text-align: right;\">\n",
              "      <th></th>\n",
              "      <th>price</th>\n",
              "      <th>sales</th>\n",
              "    </tr>\n",
              "  </thead>\n",
              "  <tbody>\n",
              "    <tr>\n",
              "      <th>a</th>\n",
              "      <td>14</td>\n",
              "      <td>400</td>\n",
              "    </tr>\n",
              "    <tr>\n",
              "      <th>c</th>\n",
              "      <td>43</td>\n",
              "      <td>526</td>\n",
              "    </tr>\n",
              "  </tbody>\n",
              "</table>\n",
              "</div>"
            ],
            "text/plain": [
              "   price  sales\n",
              "a     14    400\n",
              "c     43    526"
            ]
          },
          "metadata": {
            "tags": []
          },
          "execution_count": 22
        }
      ]
    },
    {
      "metadata": {
        "id": "byN5dn7EJddZ",
        "colab_type": "code",
        "colab": {
          "base_uri": "https://localhost:8080/",
          "height": 85
        },
        "outputId": "a7538608-1a28-448b-e40e-83333170a116"
      },
      "cell_type": "code",
      "source": [
        "print(df1.iloc[:,1])"
      ],
      "execution_count": 29,
      "outputs": [
        {
          "output_type": "stream",
          "text": [
            "a    400\n",
            "b    456\n",
            "c    526\n",
            "Name: sales, dtype: int64\n"
          ],
          "name": "stdout"
        }
      ]
    },
    {
      "metadata": {
        "id": "fppkyGC0J9qi",
        "colab_type": "code",
        "colab": {
          "base_uri": "https://localhost:8080/",
          "height": 85
        },
        "outputId": "84e0adc5-49eb-4a47-9699-df59d2fc8035"
      },
      "cell_type": "code",
      "source": [
        "print(df1.loc[:,['price','sales']])"
      ],
      "execution_count": 35,
      "outputs": [
        {
          "output_type": "stream",
          "text": [
            "   price  sales\n",
            "a     14    400\n",
            "b     32    456\n",
            "c     43    526\n"
          ],
          "name": "stdout"
        }
      ]
    },
    {
      "metadata": {
        "id": "i5Y4UfC3LsOd",
        "colab_type": "code",
        "colab": {
          "base_uri": "https://localhost:8080/",
          "height": 54
        },
        "outputId": "e1751589-c4d5-40ec-bd98-537347bb9834"
      },
      "cell_type": "code",
      "source": [
        "##a DF can be created using dictionaries\n",
        "\n",
        "store=['walmart','safeway','total','trader_joe']\n",
        "sales=[1000,3400,2400,5618]\n",
        "visitors_per_hr=[139,132,78,73]\n",
        "location=['AI','UT','TX','AR']\n",
        "list_lab=['store','sales','visitors_per_hr','location']\n",
        "list_cols=[store,sales,visitors_per_hr,location]\n",
        "zipped=list(zip(list_lab,list_cols))\n",
        "print(zipped)"
      ],
      "execution_count": 36,
      "outputs": [
        {
          "output_type": "stream",
          "text": [
            "[('store', ['walmart', 'safeway', 'total', 'trader_joe']), ('sales', [1000, 3400, 2400, 5618]), ('visitors_per_hr', [139, 132, 78, 73]), ('location', ['AI', 'UT', 'TX', 'AR'])]\n"
          ],
          "name": "stdout"
        }
      ]
    },
    {
      "metadata": {
        "id": "kWgzNlsoPIME",
        "colab_type": "code",
        "colab": {
          "base_uri": "https://localhost:8080/",
          "height": 102
        },
        "outputId": "3ceb2fe8-461a-4bec-be30-5dfa75e58977"
      },
      "cell_type": "code",
      "source": [
        "data=dict(zipped)\n",
        "final=pd.DataFrame(data)\n",
        "print(final)"
      ],
      "execution_count": 39,
      "outputs": [
        {
          "output_type": "stream",
          "text": [
            "  location  sales       store  visitors_per_hr\n",
            "0       AI   1000     walmart              139\n",
            "1       UT   3400     safeway              132\n",
            "2       TX   2400       total               78\n",
            "3       AR   5618  trader_joe               73\n"
          ],
          "name": "stdout"
        }
      ]
    }
  ]
}